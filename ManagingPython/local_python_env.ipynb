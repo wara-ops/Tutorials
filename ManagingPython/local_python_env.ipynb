{
 "cells": [
  {
   "cell_type": "markdown",
   "id": "cca30671",
   "metadata": {
    "cell_marker": "\"\"\""
   },
   "source": [
    "### Local python environment\n",
    "\n",
    "The servers comes pre-supplied with a bunch of nice-to-have packages, such as numpy, scipy, pandas and matplotlib. Run the command below to get a list of which packages that already exists."
   ]
  },
  {
   "cell_type": "code",
   "execution_count": null,
   "id": "37852457",
   "metadata": {},
   "outputs": [],
   "source": [
    "!pip list"
   ]
  },
  {
   "cell_type": "markdown",
   "id": "0e5101e2",
   "metadata": {
    "cell_marker": "\"\"\""
   },
   "source": [
    "It is entirely possible to install your own packages as well. However, as everything outside the home folder resets when the server is shut down, newly installed packages will by default be lost.\n",
    "\n",
    "This is fine in many cases, but if you want to install packages that persist across restarts you can create a virtual environment in your home folder with"
   ]
  },
  {
   "cell_type": "code",
   "execution_count": null,
   "id": "31a691d7",
   "metadata": {},
   "outputs": [],
   "source": [
    "!python3 -m venv ~/venv --system-site-packages"
   ]
  },
  {
   "cell_type": "markdown",
   "id": "71e0fcc6",
   "metadata": {
    "cell_marker": "\"\"\""
   },
   "source": [
    "This creates a virtual environment in the `venv` folder. More information on virtual environments in Python: https://docs.python.org/3/library/venv.html\n",
    "\n",
    "To use this virtual environment in jupyter, we must first install a ipython kernel that the notebooks can use. This is done with"
   ]
  },
  {
   "cell_type": "code",
   "execution_count": null,
   "id": "dc2320cc",
   "metadata": {},
   "outputs": [],
   "source": [
    "!~/venv/bin/python -m ipykernel install --user --name=localvenv --display-name=\"Python 3 (local venv)\";"
   ]
  },
  {
   "cell_type": "markdown",
   "id": "cbc86d72",
   "metadata": {
    "cell_marker": "\"\"\""
   },
   "source": [
    "After running this command, a new kernel named `Python3 (local venvl)` will show up in the kernel list which can be accessed under the menu item `Kernel -> Change Kernel...`, or as an option when creating a new notebook. If the new kernel does not show up, refreshing the webpage usually helps.\n",
    "\n",
    "Packages that persist restarts can then be installed via `pip` or `!venv/bin/pip` in notebooks running this kernel, or directly with the binary `venv/bin/pip` in a teminal. More information on installing packages in Python: https://docs.python.org/3/installing/index.html\n",
    "\n",
    "<b>Caveat:</b> The virtual environment is created on top of the ordinary python environment in the server. This could cause some problems when python and its installed packages are updated, which will be done from time to time. If you find your venv or kernel suddenly broken at login, it could be a good idea to reinstall them.\n",
    "\n",
    "First, export your locally installed packages with"
   ]
  },
  {
   "cell_type": "code",
   "execution_count": null,
   "id": "5d527c39",
   "metadata": {},
   "outputs": [],
   "source": [
    "!~/venv/bin/pip list -l --not-required --format=freeze > requirements.txt"
   ]
  },
  {
   "cell_type": "markdown",
   "id": "a8cf5b11",
   "metadata": {
    "cell_marker": "\"\"\""
   },
   "source": [
    "This could be a good opportunity to look through the `requriements.txt` file and update packages and clean out unused ones. Then, refresh your venv installation"
   ]
  },
  {
   "cell_type": "code",
   "execution_count": null,
   "id": "5519b2e1",
   "metadata": {},
   "outputs": [],
   "source": [
    "# Rename the virtual environment\n",
    "!mv ~/venv ~/venv_old\n",
    "\n",
    "# Install a new virtual environment with your local packages\n",
    "!python3 -m venv ~/venv --system-site-packages\n",
    "!~/venv/bin/pip install -r requirements.txt\n",
    "\n",
    "# Create a new kernel connected to this venv\n",
    "!~/venv/bin/python -m ipykernel install --user --name=localvenv --display-name=\"Python 3 (local venv)\";"
   ]
  },
  {
   "cell_type": "markdown",
   "id": "84e79de4",
   "metadata": {
    "cell_marker": "\"\"\""
   },
   "source": [
    "If the installation succeeded, you can remove the old venv dircetory with"
   ]
  },
  {
   "cell_type": "code",
   "execution_count": null,
   "id": "a24949cb",
   "metadata": {},
   "outputs": [],
   "source": [
    "!rm -rf ~/venv_old"
   ]
  }
 ],
 "metadata": {
  "jupytext": {
   "cell_markers": "\"\"\""
  },
  "kernelspec": {
   "display_name": "Python 3 (ipykernel)",
   "language": "python",
   "name": "python3"
  },
  "language_info": {
   "codemirror_mode": {
    "name": "ipython",
    "version": 3
   },
   "file_extension": ".py",
   "mimetype": "text/x-python",
   "name": "python",
   "nbconvert_exporter": "python",
   "pygments_lexer": "ipython3",
   "version": "3.12.2"
  }
 },
 "nbformat": 4,
 "nbformat_minor": 5
}
