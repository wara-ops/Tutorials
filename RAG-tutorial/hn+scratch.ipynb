{
 "cells": [
  {
   "cell_type": "markdown",
   "id": "c100b259",
   "metadata": {
    "cell_marker": "\"\"\"",
    "editable": true,
    "slideshow": {
     "slide_type": ""
    }
   },
   "source": [
    "# A bare-bones RAG implementation  \n",
    "\n",
    "Rev. 1"
   ]
  },
  {
   "cell_type": "markdown",
   "id": "b9a8eb8c",
   "metadata": {
    "cell_marker": "\"\"\"",
    "jp-MarkdownHeadingCollapsed": true
   },
   "source": [
    "## Table of contents\n",
    "\n",
    "0. Introduction\n",
    "1. Data preparation\n",
    "2. Data ingestion and chunking\n",
    "3. Embedding cunks\n",
    "4. Feeding a vector store with embeddings\n",
    "5. **Retrieval** of relevant (embedded) facts\n",
    "6. **Augmented** prompt preparation\n",
    "7. **Generation** of a better answer"
   ]
  },
  {
   "cell_type": "markdown",
   "id": "83adcdbb",
   "metadata": {
    "cell_marker": "\"\"\""
   },
   "source": [
    "## 0. Introduction"
   ]
  },
  {
   "cell_type": "markdown",
   "id": "01b27a83",
   "metadata": {
    "cell_marker": "\"\"\""
   },
   "source": [
    "Retrieval Augmented Generation (RAG) is intended to alleviate some of the most obvious [problems][1] displayed by Large Language Models (LLMs). RAG consists of three steps; *retrieval* of context-specific information, *augmenting* (i.e. adding context to) the LLM [prompt][6], and letting the LLM *generate* an answer taking that context into account.\n",
    "\n",
    "This notebook intends to demystify the steps involved by performing RAG, getting by without the help of tools like [LangChain][2] that streamlines the process but also obscures what is really going on.\n",
    "\n",
    "The example in this notebook is (loosely) based on [this blog post][3] but getting rid of a few dependecies and using [Ollama][4] instead of [ChatGPT][5]. The steps unique to RAG, the context generation and retrieval, will be explored in some detail.\n",
    "\n",
    "[1]: https://youtu.be/T-D1OfcDW1M?si=nKf8KC93tcsbbAlO\n",
    "[2]: https://www.langchain.com\n",
    "[3]: https://vigneshwarar.substack.com/p/hackernews-support-page-using-retrieval\n",
    "[4]: https://ollama.com\n",
    "[5]: https://openai.com/chatgpt/\n",
    "[6]: https://medium.com/thedeephub/llm-prompt-engineering-for-beginners-what-it-is-and-how-to-get-started-0c1b483d5d4f"
   ]
  },
  {
   "cell_type": "markdown",
   "id": "00f20c94",
   "metadata": {
    "cell_marker": "\"\"\""
   },
   "source": [
    "The figure below outlines the RAG process, and this notebook begins in the top left corner of the figure with the process of turning textual facts into searchable information after a quick dive into the required software and a brief look at interacting with LLMs **without** RAG."
   ]
  },
  {
   "cell_type": "markdown",
   "id": "68079e26",
   "metadata": {
    "cell_marker": "\"\"\""
   },
   "source": [
    "<!--![image.png](img/image1.png)-->\n",
    "<img src=\"img/image1.png\" alt=\"Big picture\" style=\"width: 400px;\"/>"
   ]
  },
  {
   "cell_type": "markdown",
   "id": "29070176",
   "metadata": {
    "cell_marker": "\"\"\"",
    "editable": true,
    "lines_to_next_cell": 0,
    "slideshow": {
     "slide_type": ""
    }
   },
   "source": [
    "### Prerequisites\n",
    "\n",
    "The very first step is to make sure all requirements (in terms of python modules) are present on your system. We'll import (and discuss) each module during the course of this tutorial.\n",
    "\n",
    "[Run](https://jupyter-notebook.readthedocs.io/en/stable/examples/Notebook/Running%20Code.html) the cell below ( i.e. select it and press Shift + Enter) to install the listed modules. "
   ]
  },
  {
   "cell_type": "code",
   "execution_count": null,
   "id": "961573da",
   "metadata": {},
   "outputs": [],
   "source": [
    "!pip -q install sentence-transformers qdrant-client==1.11.3 ollama"
   ]
  },
  {
   "cell_type": "markdown",
   "id": "24f899fb",
   "metadata": {
    "cell_marker": "\"\"\"",
    "lines_to_next_cell": 0
   },
   "source": [
    "### Baseline\n",
    "\n",
    "Before getting into RAG, and what it contributes, let's establish a baseline by querying our LLM without using RAG.\n",
    "\n",
    "First, import the ollama module and create a client connecting the LLM (Ollama) service that is provided by ERDC:"
   ]
  },
  {
   "cell_type": "code",
   "execution_count": null,
   "id": "37de58fa",
   "metadata": {
    "lines_to_next_cell": 0
   },
   "outputs": [],
   "source": [
    "import ollama\n",
    "from ollama import Client\n",
    "\n",
    "ollama_host = 'http://10.129.20.4:9090'\n",
    "client = Client(host=ollama_host)"
   ]
  },
  {
   "cell_type": "markdown",
   "id": "952d2b57",
   "metadata": {
    "cell_marker": "\"\"\"",
    "lines_to_next_cell": 0
   },
   "source": [
    "Next, prepare a _prompt_ with the question and some instructions for the LLM:"
   ]
  },
  {
   "cell_type": "code",
   "execution_count": null,
   "id": "c6bd655c",
   "metadata": {
    "lines_to_next_cell": 0
   },
   "outputs": [],
   "source": [
    "prompt = \"\"\"You are an AI assistant. Your task is to understand the user question, and provide an answer.\n",
    "\n",
    "Your answers are short, to the point, and written by an domain expert.\n",
    "If you don't know the answer, simply state, \"I don't know\"\n",
    "\n",
    "User question: What is special about HackerNews?\n",
    "\"\"\""
   ]
  },
  {
   "cell_type": "markdown",
   "id": "1fb0ca1b",
   "metadata": {
    "cell_marker": "\"\"\""
   },
   "source": [
    "Feed the prompt to the LLM and sit back and wait for the answer:"
   ]
  },
  {
   "cell_type": "code",
   "execution_count": null,
   "id": "77e70dc6",
   "metadata": {
    "lines_to_next_cell": 0
   },
   "outputs": [],
   "source": [
    "ollama_model = 'llama3:70b'\n",
    "reply = client.chat(\n",
    "    model=ollama_model,\n",
    "    messages=[{'role': 'user', 'content': prompt}],\n",
    "    stream=False,\n",
    ")\n",
    "\n",
    "print(reply['message']['content'])"
   ]
  },
  {
   "cell_type": "markdown",
   "id": "b7b67286",
   "metadata": {
    "cell_marker": "r\"\"\"",
    "editable": true,
    "slideshow": {
     "slide_type": ""
    }
   },
   "source": [
    "## 1. Data preparation\n",
    "In order to demonstrate RAG capabiliteis, we need some focussed facts (context), to work with.\n",
    "Some of the info-pages from HackerNews (legal.html, newsfaq.html, newsguidelines.html, security.html) was downloaded and converted to plain text and put in JSON-files<sup>1</sup> like so:\n",
    "\n",
    "```json\n",
    "{\n",
    "    \"content\": \"Hacker News Guidelines\\n...\",\n",
    "    \"url\": \"https://news.ycombinator.com/newsguidelines.html\"\n",
    "}\n",
    "```\n",
    "\n",
    "and stored in the `data` directory:\n",
    "\n",
    "```\n",
    "data/\n",
    "    legal.json\n",
    "    newsfaq.json\n",
    "    newsguidelines.json\n",
    "    security.json\n",
    "```\n",
    "\n",
    "You can examine the contents of the directory by opening the folder in the left sidebar.\n",
    "\n",
    "---\n",
    "<p><small>1. The reason for keeping the url is to be able to (manually) track and reference the original document in the response as a post-query operation.</small></p>\n",
    "\n",
    "---"
   ]
  },
  {
   "cell_type": "markdown",
   "id": "fce7508a",
   "metadata": {
    "cell_marker": "\"\"\"",
    "lines_to_next_cell": 0
   },
   "source": [
    "## 2. Data ingestion and chunking\n",
    "\n",
    "\n",
    "Next, we have to somehow prepare our data for use with an LLM prompt; _ingest_ it.\n",
    "\n",
    "The goal is to make our custom data ready for _semantic querying_ (see e.g. [King – Man + Woman = Queen](https://www.technologyreview.com/2015/09/17/166211/king-man-woman-queen-the-marvelous-mathematics-of-computational-linguistics/))\n",
    "\n",
    "Basically, there are two steps required; 1) _chunking_, i.e. turning data into smaller pieces, and 2) turning those chunks into a _semantic vectors_ of high dimension (a.k.a _embeddings_) that captures the semantics, the meaning, of the corresponding chunk.\n",
    "\n",
    "Next, we'll look at chunking in some detail, and postpone explanation of semantic vectors/embeddings to later, just keep the concept in mind for now."
   ]
  },
  {
   "cell_type": "markdown",
   "id": "af68f070",
   "metadata": {
    "cell_marker": "\"\"\""
   },
   "source": [
    "### Chunking\n",
    "\n",
    "Since a (semantic) vector of finite length, can carry only a limited amount of information, we need to limit the contextual scope of each vector – a process known as chunking. Too small chunks doesn't have enough context, but too large chunks may contain unrelated contexts. This is not an exact science, and domain knowledge and understanding of the process helps in guiding the trade-off choices. For this example, ordinary sentences will make up the chunks, but e.g. paragraphs might prove to be a good alternative.\n",
    "\n",
    "For the sake of clarity, I will show how to split the data into senteces (chunks) using plain python. For a real world deployment a natural language processing library like [spaCy](https://spacy.io) would be a better choice, but for this simple demo it would be total overkill and just obscure what is going on."
   ]
  },
  {
   "cell_type": "code",
   "execution_count": null,
   "id": "93b7c655",
   "metadata": {},
   "outputs": [],
   "source": [
    "#\n",
    "# Split the input data into sentence-sized chunks\n",
    "#\n",
    "import re\n",
    "import json\n",
    "\n",
    "chunks = []\n",
    "index = 0\n",
    "\n",
    "filenames = [\"newsfaq.json\", \"newsguidelines.json\", \"security.json\", \"legal.json\"]\n",
    "# Iterate over the entries in data/ and read each JSON file in turn\n",
    "for filename in filenames:\n",
    "    filepath = f\"./data/{filename}\"\n",
    "    with open(filepath) as fd:\n",
    "        data = json.load(fd)\n",
    "\n",
    "    url = data['url']\n",
    "    text = data['content']\n",
    "    # Split the file's text contents into sentences using python regex:\n",
    "    #   A sequence of characters is deemed a sentence if followed by a\n",
    "    #   full stop (.), question mark (?), or an exclamation mark (!)\n",
    "    #   immediately followed by one or more whitespaces.\n",
    "    sentences = re.split(r\"(?<=\\.|\\?|!)\\s+\", text)\n",
    "    # Each sentence make up a chunk, store it with references (url and id)\n",
    "    for sentence in sentences:\n",
    "        chunks.append({'id': index, 'text': sentence, 'url': url})\n",
    "        index += 1\n",
    "\n",
    "# Write the resulting array to file:\n",
    "with open('chunks.json', 'w') as fd:\n",
    "    json.dump(chunks, fd)"
   ]
  },
  {
   "cell_type": "code",
   "execution_count": null,
   "id": "9946073e",
   "metadata": {
    "lines_to_next_cell": 2
   },
   "outputs": [],
   "source": [
    "# Just a sanity check, it should be ~570 chunks\n",
    "len(chunks)"
   ]
  },
  {
   "cell_type": "markdown",
   "id": "7e812d42",
   "metadata": {
    "cell_marker": "\"\"\"",
    "lines_to_next_cell": 0
   },
   "source": [
    "<!--![image.png](img/image2.png)-->\n",
    "<img src=\"img/image2.png\" alt=\"Drawing\" style=\"width: 400px;\"/>\n",
    "\n",
    "Figure. An illustration of the chunk data format used"
   ]
  },
  {
   "cell_type": "markdown",
   "id": "342947cc",
   "metadata": {
    "cell_marker": "\"\"\""
   },
   "source": [
    "For reference, the code from the original blog post using spaCy is reproduced below:"
   ]
  },
  {
   "cell_type": "code",
   "execution_count": null,
   "id": "c0dd0b2f",
   "metadata": {
    "lines_to_next_cell": 2
   },
   "outputs": [],
   "source": [
    "# import spacy\n",
    "#\n",
    "# nlp = spacy.load(\"en_core_web_sm\")\n",
    "#\n",
    "# def process_file(file_path):\n",
    "#     with open(file_path) as f:\n",
    "#         data = json.load(f)\n",
    "#         content = data['content']\n",
    "#         url = data['url']\n",
    "#         doc = nlp(content)\n",
    "#\n",
    "#         return [{'text': sent.text, 'url': url} for sent in doc.sents]\n",
    "#\n",
    "# chunks = [chunk for file in os.listdir('data') for chunk in process_file(os.path.join('data', file))]\n",
    "#\n",
    "# chunks = [{'id': i, **chunk} for i, chunk in enumerate(chunks)]\n",
    "#\n",
    "# with open('chunks.json', 'w') as f:\n",
    "#     json.dump(chunks, f)"
   ]
  },
  {
   "cell_type": "markdown",
   "id": "7110b8f0",
   "metadata": {
    "cell_marker": "r\"\"\""
   },
   "source": [
    "## 3. Embedding\n",
    "\n",
    "Embedding is the process of turning data into semantic vectors representing that data in a way that makes it suitable for computers. With that sufficiently vague statement it is worth pointing out that data could be almost anything; text, images, etc. that can be represented as a coordinate (embedded) in a semantic space ${\\mathbb R}^n$, where $n$ is large, typically $512$, $768$ or some such. If that didn't help in understanding, consider the two-dimensional space ${\\mathbb R}^2$ with `redness`and `blueness` on the axes as shown in the picture below. The colour purple, which is a linear combination of red and blue in RGB-colorspace, would be somewhere along the diagonal $y \\approx x$."
   ]
  },
  {
   "cell_type": "markdown",
   "id": "8fbf526e",
   "metadata": {
    "cell_marker": "\"\"\""
   },
   "source": [
    "<img src=\"img/image3.png\" alt=\"Example\" style=\"width: 400px;\"/>\n",
    "\n",
    "Figure. A two-dimensional toy example trying to illustrate embedding of red- and blueness, where purpleness emerges as a combination of the two."
   ]
  },
  {
   "cell_type": "markdown",
   "id": "f63cebad",
   "metadata": {
    "cell_marker": "\"\"\""
   },
   "source": [
    "Embedding, i.e. converting a chunk to a semantic vector by a _vectorizer_, can be done in many ways, most often using a trained neural network. The state-of-the-art is progressing rapidly, and be sure to check out some kind of leaderboard for the latest and greatest for a real world deployment. That said, the purpose of any vectorizer is simple: construct a set of vectors that represent the semantic information in the best possible way. For an example, see e.g. [semantic textual similarity](https://sbert.net/docs/sentence_transformer/usage/semantic_textual_similarity.html).\n",
    "\n",
    "Many vectorizers are proprietary and/or come with complicated licenses for their use, so we'll limit this discussion to a free vectorizer:\n",
    "\n",
    "- sentence_transformers (SBERT/Hugging Face) <https://www.sbert.net>\n",
    "\n",
    "We'll be using it with the pre-trained model `all-mpnet-base-v2`. Any difference in performance and quality compared to the current best-in-class will be negligible in this example."
   ]
  },
  {
   "cell_type": "code",
   "execution_count": null,
   "id": "9faf76f1",
   "metadata": {},
   "outputs": [],
   "source": [
    "from sentence_transformers import SentenceTransformer\n",
    "\n",
    "# Gather the sentences from our chunks\n",
    "sentences = [chunk['text'] for chunk in chunks]\n",
    "model_name = 'sentence-transformers/all-mpnet-base-v2'\n",
    "# Get the model\n",
    "model = SentenceTransformer(model_name)\n",
    "model.max_seq_length\n",
    "# Vectorize, i.e. create embeddings\n",
    "embeddings = model.encode(sentences, show_progress_bar=True)"
   ]
  },
  {
   "cell_type": "markdown",
   "id": "bc48e6cb",
   "metadata": {
    "cell_marker": "\"\"\""
   },
   "source": [
    "Disregard warnings above like `TqdmExperimentalWarning: ...`, it is beyond our control."
   ]
  },
  {
   "cell_type": "markdown",
   "id": "f5da99fd",
   "metadata": {
    "cell_marker": "r\"\"\"",
    "lines_to_next_cell": 0
   },
   "source": [
    "## 4. Feeding a vector store (lib or db)\n",
    "\n",
    "Now that we have our embeddings, we need to store them somwhere **and** make them searchable.\n",
    "Storing is straightforward, but searching is in practice not so simple.\n",
    "\n",
    "The reason searching is the bottleneck, is due to the sheer number of vectors to search. The search operation, _similarity search_ is basically a very simple operation:\n",
    "\n",
    "Given a set of semantic vectors ${\\bf x}_i \\in \\left\\{x_1,\\ldots,x_n\\right\\}$ (i.e. in ${\\mathbb R}^n$), find the vector(s) most closely matching a _query vector_ ${\\bf x}$ by finding\n",
    "\n",
    "$i = {\\textit argmin}_i||{\\bf x} - {\\bf x}_i||$,\n",
    "\n",
    "i.e. (the index of) the most similar vector, where $||\\cdot||$ is the Euclidean distance (${\\textrm L}_2$) in ${\\mathbb R}^n$.\n",
    "\n",
    "To continue the example from above, a search for the (red, blue) vector that most closely matches <img src=\"img/query.png\" alt=\"query color\" width=\"17\" height=\"17\" style=\"vertical-align:middle\">, whose _embedded query vector_ is (0.3, 0.6), yields an answer of (0.25, 0.5) equivalent to <img src=\"img/answer.png\" alt=\"query color\" width=\"17\" height=\"17\" style=\"vertical-align:middle\">.<sup>2</sup>\n",
    "\n",
    "To store and search vectors, one can either use a database or an in-memory based solution.\n",
    "Vector libraries store vector embeddings in (transient) in-memory structures in order to perform search as efficiently as possible, are typically single user, inflexible and not meant for production as they tend to be a bit messy to maintain. Vector databases generally trade speed for persistance, flexibility and maintainability. Which solution to choose depends, as always, on the particular case at hand, but fundamentally they perform the same task – store and search semantic vectors.\n",
    "\n",
    "Commonly used vectorstores include:\n",
    "\n",
    "- Libraries (in-memory)\n",
    "    - faiss <https://github.com/facebookresearch/faiss>\n",
    "    - hnswlib <https://github.com/nmslib/hnswlib/blob/master/README.md>\n",
    "- Databases\n",
    "    - Qdrant <https://qdrant.tech/qdrant-vector-database/>\n",
    "\n",
    "For a comparison between the major vector database alternatives have a look at e.g. <https://benchmark.vectorview.ai/vectordbs.html>\n",
    "\n",
    "Here we'll limit ourselves to using Qdrant, but feel free to install and try out faiss and hnswlib once you have finished this tutorial.\n",
    "\n",
    "---\n",
    "<p><small>2. While the above example might look simple and intuitive, be warned that the ${\\textrm L}_2$-norm behaves quite differently in ${\\mathbb R}^n$ for $n>3$ than our experience from $n=2$ and $n=3$ lead us to believe. For reasons we're not going into here, ${\\textrm L}_1$ or ${\\textrm L}_\\infty$ could be good options, and most vector stores offer alternative target metrics.</small></p>\n",
    "    \n",
    "---\t"
   ]
  },
  {
   "cell_type": "markdown",
   "id": "432c7c05",
   "metadata": {
    "cell_marker": "\"\"\""
   },
   "source": [
    "## 5. Retrieval\n",
    "\n",
    "Retrieval is the process of gathering contextual information, given a user query, to augment the LLM prompt in the hope of getting a more accurate answer.\n",
    "\n",
    "The first step is to encode the plain text query into a semantic vector _using the same model_ as was used to create the embeddings.\n",
    "The query embedding lets us search the set of semantic vectors for vectors (and thus chunks/sentences) that are semantically close to the query. We'll sanity check each example by requesting the two most relevant (according to the vectorizing model) sentences, using a query we know for a fact is part of the set. it will look something like:\n",
    "\n",
    "```\n",
    "print(sentences[5])\n",
    "> How is a user's karma calculated?\n",
    "\n",
    "query = sentences[5]\n",
    "query_embedding = model.encode([query])\n",
    "distances, indices = store.search(query_embedding, 2)\n",
    "for idx, l2 in zip(indices[0], distances[0]):\n",
    "    print(f\"{idx}: {sentences[idx]}, ({l2:.4f})\")\n",
    "> 5: How is a user's karma calculated?, (0.0000)\n",
    "> 9: Do posts by users with more karma rank higher?, (0.1439)\n",
    "```\n",
    "\n",
    "<!-- Let's try out some examples (they are meant to be studied in order). -->"
   ]
  },
  {
   "cell_type": "markdown",
   "id": "979560b5",
   "metadata": {
    "cell_marker": "\"\"\"",
    "lines_to_next_cell": 0
   },
   "source": [
    "### Live example: Qdrant (database)\n",
    "\n",
    "For this example we'll use a [Qdrant](https://qdrant.tech/qdrant-vector-database/), a database service running on the same server as Ollama.\n",
    "A database is slightly more verbose to work with compared to faiss/hnswlib, but typically has features such as ability to update embeddings, store (any kind of) objects with an embedding, and embed data (or in some cases entire documents) on-the-fly when adding data. Here we'll stick to just storing and searching the generated embeddings as in the previous example.\n",
    "\n",
    "[Documentation for Qdrant client](https://python-client.qdrant.tech).\n",
    "\n",
    "First, let's set up a _personal_ space for our toy example and upload the embeddings:"
   ]
  },
  {
   "cell_type": "code",
   "execution_count": null,
   "id": "e92e14c8",
   "metadata": {
    "lines_to_next_cell": 0
   },
   "outputs": [],
   "source": [
    "# Create a named _collection_ making up our corner of the database (it is a shared resource)\n",
    "collection_name =  # Add a reasonably unique name of your choice here using a label and date, e.g. \"name_date\" "
   ]
  },
  {
   "cell_type": "markdown",
   "id": "2ab54eb4",
   "metadata": {
    "cell_marker": "\"\"\"",
    "lines_to_next_cell": 0
   },
   "source": [
    "Next, let's start communicating with the database:"
   ]
  },
  {
   "cell_type": "code",
   "execution_count": null,
   "id": "c5dba0e7",
   "metadata": {},
   "outputs": [],
   "source": [
    "from qdrant_client import QdrantClient\n",
    "from qdrant_client.models import Distance, VectorParams\n",
    "\n",
    "# Create a client connecting to the service\n",
    "qdrant_store = QdrantClient(host=\"10.129.20.4\", port=6333)\n",
    "\n",
    "# Check if collection (for this toy example) already exist, and remove if so\n",
    "if qdrant_store.collection_exists(collection_name=collection_name):\n",
    "   qdrant_store.delete_collection(collection_name=collection_name)\n",
    "\n",
    "# Create a named collection and set vector dimension and metric (EUCLID => L2)\n",
    "qdrant_store.create_collection(\n",
    "    collection_name = collection_name,\n",
    "    vectors_config = VectorParams(size=model.get_sentence_embedding_dimension(), distance=Distance.EUCLID),\n",
    ")\n",
    "\n",
    "# Upload our embeddings, one variant of many\n",
    "\n",
    "# If ids are _not_ provided, Qdrant Client will replce them with random UUIDs (not good in this case).\n",
    "# Optional _payload_ not utilized, could in this example be e.g. the URL associated with each embedding\n",
    "n = len(embeddings)\n",
    "qdrant_store.upload_collection(\n",
    "    collection_name = collection_name,\n",
    "    ids = range(n),\n",
    "    vectors = embeddings,\n",
    ")"
   ]
  },
  {
   "cell_type": "markdown",
   "id": "61ea60c5",
   "metadata": {
    "cell_marker": "\"\"\""
   },
   "source": [
    "First a sanity check (note that qdrant's similarity search is _guided_ by `SearchParams`, see <https://qdrant.tech/documentation/concepts/search/>):"
   ]
  },
  {
   "cell_type": "code",
   "execution_count": null,
   "id": "746e794a",
   "metadata": {},
   "outputs": [],
   "source": [
    "print(sentences[5])"
   ]
  },
  {
   "cell_type": "code",
   "execution_count": null,
   "id": "00ff58e6",
   "metadata": {},
   "outputs": [],
   "source": [
    "from qdrant_client import models\n",
    "\n",
    "query = sentences[5]\n",
    "query_embedding = model.encode(query)\n",
    "# Return the two closest matches\n",
    "search_results = qdrant_store.search(\n",
    "    collection_name = collection_name,\n",
    "    search_params = models.SearchParams(hnsw_ef=10, exact=False),\n",
    "    query_vector = query_embedding,\n",
    "    limit = 2,\n",
    ")\n",
    "\n",
    "ids_and_dists = [(result.id, result.score) for result in search_results]\n",
    "for idx, l2 in ids_and_dists:\n",
    "    print(f\"{idx}: {sentences[idx]}, ({l2:.4f})\")"
   ]
  },
  {
   "cell_type": "markdown",
   "id": "e84206e7",
   "metadata": {
    "cell_marker": "\"\"\""
   },
   "source": [
    "Now we're ready for a more general test:"
   ]
  },
  {
   "cell_type": "code",
   "execution_count": null,
   "id": "23615795",
   "metadata": {
    "lines_to_next_cell": 2
   },
   "outputs": [],
   "source": [
    "query = 'What is special about HackerNews?'\n",
    "query_embedding = model.encode(query)"
   ]
  },
  {
   "cell_type": "code",
   "execution_count": null,
   "id": "79f51803",
   "metadata": {},
   "outputs": [],
   "source": [
    "# Number of matches for search to return\n",
    "k = 30\n",
    "search_results = qdrant_store.search(\n",
    "    collection_name = collection_name,\n",
    "    search_params = models.SearchParams(hnsw_ef= 50, exact=False),\n",
    "    query_vector = query_embedding,\n",
    "    limit = k,\n",
    ")\n",
    "\n",
    "indices = [res.id for res in search_results]\n",
    "\n",
    "# Context for LLM\n",
    "example_name = \"qdrant\"\n",
    "context = '\\n'.join([f'{i}. {sentences[idx]}' for i, idx in enumerate(indices)])"
   ]
  },
  {
   "cell_type": "code",
   "execution_count": null,
   "id": "4be5ae74",
   "metadata": {},
   "outputs": [],
   "source": [
    "print(context)"
   ]
  },
  {
   "cell_type": "markdown",
   "id": "8487c978",
   "metadata": {
    "cell_marker": "\"\"\""
   },
   "source": [
    "## 6. Prompt preparation (Augmented)"
   ]
  },
  {
   "cell_type": "markdown",
   "id": "e8a2be77",
   "metadata": {
    "cell_marker": "\"\"\""
   },
   "source": [
    "### Prompt format"
   ]
  },
  {
   "cell_type": "markdown",
   "id": "fb934804",
   "metadata": {
    "cell_marker": "\"\"\""
   },
   "source": [
    "The best prompt format for RAG-augmentation is unclear as Llama3 doesn't have a specific prompt-format, unlike eg anthropic <https://github.com/meta-llama/llama-recipes/issues/450>. We'll keep it simple use the following prompt template:"
   ]
  },
  {
   "cell_type": "code",
   "execution_count": null,
   "id": "a09ef09c",
   "metadata": {},
   "outputs": [],
   "source": [
    "base_prompt = \"\"\"You are an AI assistant. Your task is to understand the user question, and provide an answer using the provided context.\n",
    "\n",
    "Your answers are short, to the point, and written by an domain expert. Provide references to the context where appropriate.\n",
    "If the provided context does not contain the answer, simply state, \"The provided context does not have the answer.\"\n",
    "\n",
    "User question: {}\n",
    "\n",
    "Context:\n",
    "{}\n",
    "\"\"\""
   ]
  },
  {
   "cell_type": "code",
   "execution_count": null,
   "id": "56487667",
   "metadata": {},
   "outputs": [],
   "source": [
    "prompt = f'{base_prompt.format(query, context)}'"
   ]
  },
  {
   "cell_type": "markdown",
   "id": "bcc6682b",
   "metadata": {
    "cell_marker": "\"\"\""
   },
   "source": [
    "Uncomment next line if you want to see what gets fed into the LLM"
   ]
  },
  {
   "cell_type": "code",
   "execution_count": null,
   "id": "63ef935c",
   "metadata": {},
   "outputs": [],
   "source": [
    "# prompt"
   ]
  },
  {
   "cell_type": "markdown",
   "id": "785bb8c3",
   "metadata": {
    "cell_marker": "\"\"\"",
    "lines_to_next_cell": 0
   },
   "source": [
    "## 7. Answer Generation"
   ]
  },
  {
   "cell_type": "code",
   "execution_count": null,
   "id": "0a6744eb",
   "metadata": {},
   "outputs": [],
   "source": [
    "stream = client.chat(\n",
    "    model=ollama_model,\n",
    "    messages=[{'role': 'user', 'content': prompt}],\n",
    "    stream=True,\n",
    ")\n",
    "\n",
    "print(f\"Using embeddings generated by '{model_name}' retrieved from '{example_name}':\\n\")\n",
    "for chunk in stream:\n",
    "    print(chunk['message']['content'], end='', flush=True)"
   ]
  }
 ],
 "metadata": {
  "jupytext": {
   "cell_markers": "\"\"\""
  },
  "kernelspec": {
   "display_name": "Python 3 (ipykernel)",
   "language": "python",
   "name": "python3"
  }
 },
 "nbformat": 4,
 "nbformat_minor": 5
}
